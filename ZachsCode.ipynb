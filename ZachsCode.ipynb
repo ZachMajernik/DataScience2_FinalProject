{
 "cells": [
  {
   "cell_type": "code",
   "execution_count": 1,
   "id": "46995520",
   "metadata": {},
   "outputs": [],
   "source": [
    "import gym\n",
    "from gym import wrappers"
   ]
  },
  {
   "cell_type": "code",
   "execution_count": 10,
   "id": "b08bfe18",
   "metadata": {},
   "outputs": [],
   "source": [
    "env = gym.make(\"ALE/Tetris-v5\", render_mode='human')\n",
    "\n",
    "# Start the environment\n",
    "observation = env.reset()\n",
    "\n",
    "    # Render the environment\n",
    "env.render()\n",
    "\n",
    "    # Take a random action\n",
    "action = env.action_space.sample()\n",
    "\n",
    "    # Perform the action and capture the return values in a single variable\n",
    "info = env.step(action)"
   ]
  },
  {
   "cell_type": "code",
   "execution_count": 59,
   "id": "48884a83",
   "metadata": {},
   "outputs": [],
   "source": [
    "info = env.step(2)\n",
    "info = env.step(4)"
   ]
  },
  {
   "cell_type": "code",
   "execution_count": 64,
   "id": "f4aad071",
   "metadata": {},
   "outputs": [],
   "source": [
    "env.close()"
   ]
  },
  {
   "cell_type": "code",
   "execution_count": null,
   "id": "e6e13cbb",
   "metadata": {},
   "outputs": [],
   "source": []
  }
 ],
 "metadata": {
  "kernelspec": {
   "display_name": "Python 3 (ipykernel)",
   "language": "python",
   "name": "python3"
  },
  "language_info": {
   "codemirror_mode": {
    "name": "ipython",
    "version": 3
   },
   "file_extension": ".py",
   "mimetype": "text/x-python",
   "name": "python",
   "nbconvert_exporter": "python",
   "pygments_lexer": "ipython3",
   "version": "3.9.13"
  }
 },
 "nbformat": 4,
 "nbformat_minor": 5
}
