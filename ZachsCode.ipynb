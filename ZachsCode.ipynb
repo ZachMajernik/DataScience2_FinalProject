{
 "cells": [
  {
   "cell_type": "code",
   "execution_count": 1,
   "id": "46995520",
   "metadata": {},
   "outputs": [],
   "source": [
    "import gym\n",
    "from gym import wrappers"
   ]
  },
  {
   "cell_type": "code",
   "execution_count": 10,
   "id": "b08bfe18",
   "metadata": {},
   "outputs": [],
   "source": [
    "env = gym.make(\"ALE/Tetris-v5\", render_mode='human')\n",
    "\n",
    "# Start the environment\n",
    "observation = env.reset()\n",
    "\n",
    "    # Render the environment\n",
    "env.render()\n",
    "\n",
    "    # Take a random action\n",
    "action = env.action_space.sample()\n",
    "\n",
    "    # Perform the action and capture the return values in a single variable\n",
    "info = env.step(action)"
   ]
  },
  {
   "cell_type": "code",
   "execution_count": 59,
   "id": "48884a83",
   "metadata": {},
   "outputs": [],
   "source": [
    "info = env.step(2)\n",
    "info = env.step(4)"
   ]
  },
  {
   "cell_type": "code",
   "execution_count": 1,
   "id": "f4aad071",
   "metadata": {},
   "outputs": [
    {
     "ename": "NameError",
     "evalue": "name 'env' is not defined",
     "output_type": "error",
     "traceback": [
      "\u001b[1;31m---------------------------------------------------------------------------\u001b[0m",
      "\u001b[1;31mNameError\u001b[0m                                 Traceback (most recent call last)",
      "\u001b[1;32m~\\AppData\\Local\\Temp\\ipykernel_14760\\1611117597.py\u001b[0m in \u001b[0;36m<module>\u001b[1;34m\u001b[0m\n\u001b[1;32m----> 1\u001b[1;33m \u001b[0menv\u001b[0m\u001b[1;33m.\u001b[0m\u001b[0mclose\u001b[0m\u001b[1;33m(\u001b[0m\u001b[1;33m)\u001b[0m\u001b[1;33m\u001b[0m\u001b[1;33m\u001b[0m\u001b[0m\n\u001b[0m\u001b[0;32m      2\u001b[0m \u001b[1;31m# doesnt work\u001b[0m\u001b[1;33m\u001b[0m\u001b[1;33m\u001b[0m\u001b[0m\n",
      "\u001b[1;31mNameError\u001b[0m: name 'env' is not defined"
     ]
    }
   ],
   "source": [
    "env.close()\n",
    "# doesnt work"
   ]
  },
  {
   "cell_type": "code",
   "execution_count": null,
   "id": "e6e13cbb",
   "metadata": {},
   "outputs": [],
   "source": []
  }
 ],
 "metadata": {
  "kernelspec": {
   "display_name": "Python 3 (ipykernel)",
   "language": "python",
   "name": "python3"
  },
  "language_info": {
   "codemirror_mode": {
    "name": "ipython",
    "version": 3
   },
   "file_extension": ".py",
   "mimetype": "text/x-python",
   "name": "python",
   "nbconvert_exporter": "python",
   "pygments_lexer": "ipython3",
   "version": "3.9.13"
  }
 },
 "nbformat": 4,
 "nbformat_minor": 5
}
