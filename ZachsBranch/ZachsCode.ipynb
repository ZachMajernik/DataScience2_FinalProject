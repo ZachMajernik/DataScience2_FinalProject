{
 "cells": [
  {
   "cell_type": "code",
   "execution_count": 6,
   "id": "9db9b9a1",
   "metadata": {},
   "outputs": [
    {
     "name": "stdout",
     "output_type": "stream",
     "text": [
      "Requirement already satisfied: gymnasium[atari] in c:\\users\\zache\\anaconda3\\lib\\site-packages (0.29.1)\n",
      "Requirement already satisfied: numpy>=1.21.0 in c:\\users\\zache\\anaconda3\\lib\\site-packages (from gymnasium[atari]) (1.24.3)\n",
      "Requirement already satisfied: cloudpickle>=1.2.0 in c:\\users\\zache\\anaconda3\\lib\\site-packages (from gymnasium[atari]) (2.2.1)\n",
      "Requirement already satisfied: typing-extensions>=4.3.0 in c:\\users\\zache\\anaconda3\\lib\\site-packages (from gymnasium[atari]) (4.7.1)\n",
      "Requirement already satisfied: farama-notifications>=0.0.1 in c:\\users\\zache\\anaconda3\\lib\\site-packages (from gymnasium[atari]) (0.0.4)\n",
      "Collecting shimmy[atari]<1.0,>=0.1.0 (from gymnasium[atari])\n",
      "  Obtaining dependency information for shimmy[atari]<1.0,>=0.1.0 from https://files.pythonhosted.org/packages/6f/d3/3d3787570f0cb16ba37a4fbd604498d8ee04ce987b7c8564a13d2c1858cf/Shimmy-0.2.1-py3-none-any.whl.metadata\n",
      "  Downloading Shimmy-0.2.1-py3-none-any.whl.metadata (2.3 kB)\n",
      "Collecting ale-py~=0.8.1 (from shimmy[atari]<1.0,>=0.1.0->gymnasium[atari])\n",
      "  Obtaining dependency information for ale-py~=0.8.1 from https://files.pythonhosted.org/packages/b2/a5/f93747205056eb741d1a34acb34b69ea0a46ef9eee4699e0a1cb67628646/ale_py-0.8.1-cp311-cp311-win_amd64.whl.metadata\n",
      "  Downloading ale_py-0.8.1-cp311-cp311-win_amd64.whl.metadata (8.3 kB)\n",
      "Collecting importlib-resources (from ale-py~=0.8.1->shimmy[atari]<1.0,>=0.1.0->gymnasium[atari])\n",
      "  Obtaining dependency information for importlib-resources from https://files.pythonhosted.org/packages/75/06/4df55e1b7b112d183f65db9503bff189e97179b256e1ea450a3c365241e0/importlib_resources-6.4.0-py3-none-any.whl.metadata\n",
      "  Downloading importlib_resources-6.4.0-py3-none-any.whl.metadata (3.9 kB)\n",
      "Downloading ale_py-0.8.1-cp311-cp311-win_amd64.whl (952 kB)\n",
      "   ---------------------------------------- 0.0/952.4 kB ? eta -:--:--\n",
      "   ---------------------------------------- 10.2/952.4 kB ? eta -:--:--\n",
      "   - ------------------------------------- 30.7/952.4 kB 262.6 kB/s eta 0:00:04\n",
      "   -- ------------------------------------ 61.4/952.4 kB 409.6 kB/s eta 0:00:03\n",
      "   ---- --------------------------------- 122.9/952.4 kB 722.1 kB/s eta 0:00:02\n",
      "   ------- ------------------------------ 194.6/952.4 kB 908.0 kB/s eta 0:00:01\n",
      "   ------------ --------------------------- 307.2/952.4 kB 1.2 MB/s eta 0:00:01\n",
      "   --------------------- ------------------ 522.2/952.4 kB 1.6 MB/s eta 0:00:01\n",
      "   -------------------------- ------------- 634.9/952.4 kB 1.8 MB/s eta 0:00:01\n",
      "   ---------------------------------------  952.3/952.4 kB 2.4 MB/s eta 0:00:01\n",
      "   ---------------------------------------- 952.4/952.4 kB 2.2 MB/s eta 0:00:00\n",
      "Downloading Shimmy-0.2.1-py3-none-any.whl (25 kB)\n",
      "Downloading importlib_resources-6.4.0-py3-none-any.whl (38 kB)\n",
      "Installing collected packages: importlib-resources, shimmy, ale-py\n",
      "Successfully installed ale-py-0.8.1 importlib-resources-6.4.0 shimmy-0.2.1\n",
      "Requirement already satisfied: gymnasium[accept-rom-license] in c:\\users\\zache\\anaconda3\\lib\\site-packages (0.29.1)\n",
      "Requirement already satisfied: numpy>=1.21.0 in c:\\users\\zache\\anaconda3\\lib\\site-packages (from gymnasium[accept-rom-license]) (1.24.3)\n",
      "Requirement already satisfied: cloudpickle>=1.2.0 in c:\\users\\zache\\anaconda3\\lib\\site-packages (from gymnasium[accept-rom-license]) (2.2.1)\n",
      "Requirement already satisfied: typing-extensions>=4.3.0 in c:\\users\\zache\\anaconda3\\lib\\site-packages (from gymnasium[accept-rom-license]) (4.7.1)\n",
      "Requirement already satisfied: farama-notifications>=0.0.1 in c:\\users\\zache\\anaconda3\\lib\\site-packages (from gymnasium[accept-rom-license]) (0.0.4)\n",
      "Collecting autorom[accept-rom-license]~=0.4.2 (from gymnasium[accept-rom-license])\n",
      "  Obtaining dependency information for autorom[accept-rom-license]~=0.4.2 from https://files.pythonhosted.org/packages/83/aa/e2695fa0c93b39cfe2065fcd189e7eb2db88f6e0922e932fc615827070da/AutoROM-0.4.2-py3-none-any.whl.metadata\n",
      "  Downloading AutoROM-0.4.2-py3-none-any.whl.metadata (2.8 kB)\n",
      "Requirement already satisfied: click in c:\\users\\zache\\anaconda3\\lib\\site-packages (from autorom[accept-rom-license]~=0.4.2->gymnasium[accept-rom-license]) (8.0.4)\n",
      "Requirement already satisfied: requests in c:\\users\\zache\\anaconda3\\lib\\site-packages (from autorom[accept-rom-license]~=0.4.2->gymnasium[accept-rom-license]) (2.31.0)\n",
      "Requirement already satisfied: tqdm in c:\\users\\zache\\anaconda3\\lib\\site-packages (from autorom[accept-rom-license]~=0.4.2->gymnasium[accept-rom-license]) (4.65.0)\n",
      "Collecting AutoROM.accept-rom-license (from autorom[accept-rom-license]~=0.4.2->gymnasium[accept-rom-license])\n",
      "  Downloading AutoROM.accept-rom-license-0.6.1.tar.gz (434 kB)\n",
      "     ---------------------------------------- 0.0/434.7 kB ? eta -:--:--\n",
      "      --------------------------------------- 10.2/434.7 kB ? eta -:--:--\n",
      "     - ----------------------------------- 20.5/434.7 kB 330.3 kB/s eta 0:00:02\n",
      "     --- --------------------------------- 41.0/434.7 kB 330.3 kB/s eta 0:00:02\n",
      "     ---- -------------------------------- 51.2/434.7 kB 375.8 kB/s eta 0:00:02\n",
      "     ---------- ------------------------- 122.9/434.7 kB 722.1 kB/s eta 0:00:01\n",
      "     ----------- ------------------------ 133.1/434.7 kB 563.7 kB/s eta 0:00:01\n",
      "     ---------------------- ------------- 266.2/434.7 kB 911.0 kB/s eta 0:00:01\n",
      "     ---------------------- ------------- 266.2/434.7 kB 911.0 kB/s eta 0:00:01\n",
      "     -------------------------------------  430.1/434.7 kB 1.1 MB/s eta 0:00:01\n",
      "     -------------------------------------- 434.7/434.7 kB 1.0 MB/s eta 0:00:00\n",
      "  Installing build dependencies: started\n",
      "  Installing build dependencies: finished with status 'done'\n",
      "  Getting requirements to build wheel: started\n",
      "  Getting requirements to build wheel: finished with status 'done'\n",
      "  Preparing metadata (pyproject.toml): started\n",
      "  Preparing metadata (pyproject.toml): finished with status 'done'\n",
      "Requirement already satisfied: colorama in c:\\users\\zache\\anaconda3\\lib\\site-packages (from click->autorom[accept-rom-license]~=0.4.2->gymnasium[accept-rom-license]) (0.4.6)\n",
      "Requirement already satisfied: charset-normalizer<4,>=2 in c:\\users\\zache\\anaconda3\\lib\\site-packages (from requests->autorom[accept-rom-license]~=0.4.2->gymnasium[accept-rom-license]) (2.0.4)\n",
      "Requirement already satisfied: idna<4,>=2.5 in c:\\users\\zache\\anaconda3\\lib\\site-packages (from requests->autorom[accept-rom-license]~=0.4.2->gymnasium[accept-rom-license]) (3.4)\n",
      "Requirement already satisfied: urllib3<3,>=1.21.1 in c:\\users\\zache\\anaconda3\\lib\\site-packages (from requests->autorom[accept-rom-license]~=0.4.2->gymnasium[accept-rom-license]) (1.26.16)\n",
      "Requirement already satisfied: certifi>=2017.4.17 in c:\\users\\zache\\anaconda3\\lib\\site-packages (from requests->autorom[accept-rom-license]~=0.4.2->gymnasium[accept-rom-license]) (2023.7.22)\n",
      "Downloading AutoROM-0.4.2-py3-none-any.whl (16 kB)\n",
      "Building wheels for collected packages: AutoROM.accept-rom-license\n",
      "  Building wheel for AutoROM.accept-rom-license (pyproject.toml): started\n",
      "  Building wheel for AutoROM.accept-rom-license (pyproject.toml): finished with status 'done'\n",
      "  Created wheel for AutoROM.accept-rom-license: filename=AutoROM.accept_rom_license-0.6.1-py3-none-any.whl size=446678 sha256=fad37775a9e8cd0c81cdcf62592af001045758c7a0ac90079ae386fd56f69384\n",
      "  Stored in directory: c:\\users\\zache\\appdata\\local\\pip\\cache\\wheels\\bc\\fc\\c6\\8aa657c0d2089982f2dabd110efc68c61eb49831fdb7397351\n",
      "Successfully built AutoROM.accept-rom-license\n",
      "Installing collected packages: AutoROM.accept-rom-license, autorom\n",
      "Successfully installed AutoROM.accept-rom-license-0.6.1 autorom-0.4.2\n"
     ]
    }
   ],
   "source": [
    "# !pip install gymnasium[atari]\n",
    "# !pip install gymnasium[accept-rom-license]"
   ]
  },
  {
   "cell_type": "code",
   "execution_count": 8,
   "id": "46995520",
   "metadata": {},
   "outputs": [],
   "source": [
    "import gymnasium"
   ]
  },
  {
   "cell_type": "code",
   "execution_count": 9,
   "id": "b08bfe18",
   "metadata": {},
   "outputs": [
    {
     "ename": "NamespaceNotFound",
     "evalue": "Namespace ALE not found. Have you installed the proper package for ALE?",
     "output_type": "error",
     "traceback": [
      "\u001b[1;31m---------------------------------------------------------------------------\u001b[0m",
      "\u001b[1;31mNamespaceNotFound\u001b[0m                         Traceback (most recent call last)",
      "Cell \u001b[1;32mIn[9], line 1\u001b[0m\n\u001b[1;32m----> 1\u001b[0m env \u001b[38;5;241m=\u001b[39m gym\u001b[38;5;241m.\u001b[39mmake(\u001b[38;5;124m\"\u001b[39m\u001b[38;5;124mALE/Tetris-v5\u001b[39m\u001b[38;5;124m\"\u001b[39m, render_mode\u001b[38;5;241m=\u001b[39m\u001b[38;5;124m'\u001b[39m\u001b[38;5;124mhuman\u001b[39m\u001b[38;5;124m'\u001b[39m)\n\u001b[0;32m      3\u001b[0m \u001b[38;5;66;03m# Start the environment\u001b[39;00m\n\u001b[0;32m      4\u001b[0m observation \u001b[38;5;241m=\u001b[39m env\u001b[38;5;241m.\u001b[39mreset()\n",
      "File \u001b[1;32m~\\anaconda3\\Lib\\site-packages\\gymnasium\\envs\\registration.py:741\u001b[0m, in \u001b[0;36mmake\u001b[1;34m(id, max_episode_steps, autoreset, apply_api_compatibility, disable_env_checker, **kwargs)\u001b[0m\n\u001b[0;32m    738\u001b[0m     \u001b[38;5;28;01massert\u001b[39;00m \u001b[38;5;28misinstance\u001b[39m(\u001b[38;5;28mid\u001b[39m, \u001b[38;5;28mstr\u001b[39m)\n\u001b[0;32m    740\u001b[0m     \u001b[38;5;66;03m# The environment name can include an unloaded module in \"module:env_name\" style\u001b[39;00m\n\u001b[1;32m--> 741\u001b[0m     env_spec \u001b[38;5;241m=\u001b[39m _find_spec(\u001b[38;5;28mid\u001b[39m)\n\u001b[0;32m    743\u001b[0m \u001b[38;5;28;01massert\u001b[39;00m \u001b[38;5;28misinstance\u001b[39m(env_spec, EnvSpec)\n\u001b[0;32m    745\u001b[0m \u001b[38;5;66;03m# Update the env spec kwargs with the `make` kwargs\u001b[39;00m\n",
      "File \u001b[1;32m~\\anaconda3\\Lib\\site-packages\\gymnasium\\envs\\registration.py:527\u001b[0m, in \u001b[0;36m_find_spec\u001b[1;34m(env_id)\u001b[0m\n\u001b[0;32m    521\u001b[0m     logger\u001b[38;5;241m.\u001b[39mwarn(\n\u001b[0;32m    522\u001b[0m         \u001b[38;5;124mf\u001b[39m\u001b[38;5;124m\"\u001b[39m\u001b[38;5;124mUsing the latest versioned environment `\u001b[39m\u001b[38;5;132;01m{\u001b[39;00mnew_env_id\u001b[38;5;132;01m}\u001b[39;00m\u001b[38;5;124m` \u001b[39m\u001b[38;5;124m\"\u001b[39m\n\u001b[0;32m    523\u001b[0m         \u001b[38;5;124mf\u001b[39m\u001b[38;5;124m\"\u001b[39m\u001b[38;5;124minstead of the unversioned environment `\u001b[39m\u001b[38;5;132;01m{\u001b[39;00menv_name\u001b[38;5;132;01m}\u001b[39;00m\u001b[38;5;124m`.\u001b[39m\u001b[38;5;124m\"\u001b[39m\n\u001b[0;32m    524\u001b[0m     )\n\u001b[0;32m    526\u001b[0m \u001b[38;5;28;01mif\u001b[39;00m env_spec \u001b[38;5;129;01mis\u001b[39;00m \u001b[38;5;28;01mNone\u001b[39;00m:\n\u001b[1;32m--> 527\u001b[0m     _check_version_exists(ns, name, version)\n\u001b[0;32m    528\u001b[0m     \u001b[38;5;28;01mraise\u001b[39;00m error\u001b[38;5;241m.\u001b[39mError(\n\u001b[0;32m    529\u001b[0m         \u001b[38;5;124mf\u001b[39m\u001b[38;5;124m\"\u001b[39m\u001b[38;5;124mNo registered env with id: \u001b[39m\u001b[38;5;132;01m{\u001b[39;00menv_name\u001b[38;5;132;01m}\u001b[39;00m\u001b[38;5;124m. Did you register it, or import the package that registers it? Use `gymnasium.pprint_registry()` to see all of the registered environments.\u001b[39m\u001b[38;5;124m\"\u001b[39m\n\u001b[0;32m    530\u001b[0m     )\n\u001b[0;32m    532\u001b[0m \u001b[38;5;28;01mreturn\u001b[39;00m env_spec\n",
      "File \u001b[1;32m~\\anaconda3\\Lib\\site-packages\\gymnasium\\envs\\registration.py:393\u001b[0m, in \u001b[0;36m_check_version_exists\u001b[1;34m(ns, name, version)\u001b[0m\n\u001b[0;32m    390\u001b[0m \u001b[38;5;28;01mif\u001b[39;00m get_env_id(ns, name, version) \u001b[38;5;129;01min\u001b[39;00m registry:\n\u001b[0;32m    391\u001b[0m     \u001b[38;5;28;01mreturn\u001b[39;00m\n\u001b[1;32m--> 393\u001b[0m _check_name_exists(ns, name)\n\u001b[0;32m    394\u001b[0m \u001b[38;5;28;01mif\u001b[39;00m version \u001b[38;5;129;01mis\u001b[39;00m \u001b[38;5;28;01mNone\u001b[39;00m:\n\u001b[0;32m    395\u001b[0m     \u001b[38;5;28;01mreturn\u001b[39;00m\n",
      "File \u001b[1;32m~\\anaconda3\\Lib\\site-packages\\gymnasium\\envs\\registration.py:356\u001b[0m, in \u001b[0;36m_check_name_exists\u001b[1;34m(ns, name)\u001b[0m\n\u001b[0;32m    354\u001b[0m \u001b[38;5;250m\u001b[39m\u001b[38;5;124;03m\"\"\"Check if an env exists in a namespace. If it doesn't, print a helpful error message.\"\"\"\u001b[39;00m\n\u001b[0;32m    355\u001b[0m \u001b[38;5;66;03m# First check if the namespace exists\u001b[39;00m\n\u001b[1;32m--> 356\u001b[0m _check_namespace_exists(ns)\n\u001b[0;32m    358\u001b[0m \u001b[38;5;66;03m# Then check if the name exists\u001b[39;00m\n\u001b[0;32m    359\u001b[0m names: \u001b[38;5;28mset\u001b[39m[\u001b[38;5;28mstr\u001b[39m] \u001b[38;5;241m=\u001b[39m {\n\u001b[0;32m    360\u001b[0m     env_spec\u001b[38;5;241m.\u001b[39mname \u001b[38;5;28;01mfor\u001b[39;00m env_spec \u001b[38;5;129;01min\u001b[39;00m registry\u001b[38;5;241m.\u001b[39mvalues() \u001b[38;5;28;01mif\u001b[39;00m env_spec\u001b[38;5;241m.\u001b[39mnamespace \u001b[38;5;241m==\u001b[39m ns\n\u001b[0;32m    361\u001b[0m }\n",
      "File \u001b[1;32m~\\anaconda3\\Lib\\site-packages\\gymnasium\\envs\\registration.py:350\u001b[0m, in \u001b[0;36m_check_namespace_exists\u001b[1;34m(ns)\u001b[0m\n\u001b[0;32m    347\u001b[0m \u001b[38;5;28;01melse\u001b[39;00m:\n\u001b[0;32m    348\u001b[0m     suggestion_msg \u001b[38;5;241m=\u001b[39m \u001b[38;5;124mf\u001b[39m\u001b[38;5;124m\"\u001b[39m\u001b[38;5;124mHave you installed the proper package for \u001b[39m\u001b[38;5;132;01m{\u001b[39;00mns\u001b[38;5;132;01m}\u001b[39;00m\u001b[38;5;124m?\u001b[39m\u001b[38;5;124m\"\u001b[39m\n\u001b[1;32m--> 350\u001b[0m \u001b[38;5;28;01mraise\u001b[39;00m error\u001b[38;5;241m.\u001b[39mNamespaceNotFound(\u001b[38;5;124mf\u001b[39m\u001b[38;5;124m\"\u001b[39m\u001b[38;5;124mNamespace \u001b[39m\u001b[38;5;132;01m{\u001b[39;00mns\u001b[38;5;132;01m}\u001b[39;00m\u001b[38;5;124m not found. \u001b[39m\u001b[38;5;132;01m{\u001b[39;00msuggestion_msg\u001b[38;5;132;01m}\u001b[39;00m\u001b[38;5;124m\"\u001b[39m)\n",
      "\u001b[1;31mNamespaceNotFound\u001b[0m: Namespace ALE not found. Have you installed the proper package for ALE?"
     ]
    }
   ],
   "source": [
    "env = gym.make(\"ALE/Tetris-v5\", render_mode='human')\n",
    "\n",
    "# Start the environment\n",
    "observation = env.reset()\n",
    "\n",
    "    # Render the environment\n",
    "env.render()\n",
    "\n",
    "    # Take a random action\n",
    "action = env.action_space.sample()\n",
    "\n",
    "    # Perform the action and capture the return values in a single variable\n",
    "info = env.step(action)"
   ]
  },
  {
   "cell_type": "code",
   "execution_count": 59,
   "id": "48884a83",
   "metadata": {},
   "outputs": [],
   "source": [
    "info = env.step(2)\n",
    "info = env.step(4)"
   ]
  },
  {
   "cell_type": "code",
   "execution_count": 1,
   "id": "f4aad071",
   "metadata": {},
   "outputs": [
    {
     "ename": "NameError",
     "evalue": "name 'env' is not defined",
     "output_type": "error",
     "traceback": [
      "\u001b[1;31m---------------------------------------------------------------------------\u001b[0m",
      "\u001b[1;31mNameError\u001b[0m                                 Traceback (most recent call last)",
      "\u001b[1;32m~\\AppData\\Local\\Temp\\ipykernel_14760\\1611117597.py\u001b[0m in \u001b[0;36m<module>\u001b[1;34m\u001b[0m\n\u001b[1;32m----> 1\u001b[1;33m \u001b[0menv\u001b[0m\u001b[1;33m.\u001b[0m\u001b[0mclose\u001b[0m\u001b[1;33m(\u001b[0m\u001b[1;33m)\u001b[0m\u001b[1;33m\u001b[0m\u001b[1;33m\u001b[0m\u001b[0m\n\u001b[0m\u001b[0;32m      2\u001b[0m \u001b[1;31m# doesnt work\u001b[0m\u001b[1;33m\u001b[0m\u001b[1;33m\u001b[0m\u001b[0m\n",
      "\u001b[1;31mNameError\u001b[0m: name 'env' is not defined"
     ]
    }
   ],
   "source": [
    "env.close()\n",
    "# doesnt work"
   ]
  },
  {
   "cell_type": "code",
   "execution_count": null,
   "id": "65f40fc8",
   "metadata": {},
   "outputs": [],
   "source": []
  }
 ],
 "metadata": {
  "kernelspec": {
   "display_name": "Python 3 (ipykernel)",
   "language": "python",
   "name": "python3"
  },
  "language_info": {
   "codemirror_mode": {
    "name": "ipython",
    "version": 3
   },
   "file_extension": ".py",
   "mimetype": "text/x-python",
   "name": "python",
   "nbconvert_exporter": "python",
   "pygments_lexer": "ipython3",
   "version": "3.11.5"
  }
 },
 "nbformat": 4,
 "nbformat_minor": 5
}
